{
 "cells": [
  {
   "cell_type": "markdown",
   "metadata": {},
   "source": [
    "(1) faça uma implementação destes algoritmos usando uma variável que conta a\n",
    "quantidade de trocas que cada algoritmo faz;"
   ]
  },
  {
   "cell_type": "code",
   "execution_count": 9,
   "metadata": {},
   "outputs": [],
   "source": [
    "def insertion_sort(arr):\n",
    "    \"\"\"\n",
    "    Implementa o Insertion Sort com contagem de trocas.\n",
    "\n",
    "    Args:\n",
    "    arr: A lista a ser ordenada.\n",
    "\n",
    "    Returns:\n",
    "    A lista ordenada e o número de trocas realizadas.\n",
    "    \"\"\"\n",
    "def ordenacao(arr):\n",
    "    trocas = 0\n",
    "    for i in range(1, len(arr)):\n",
    "        chave = arr[i]\n",
    "        j = i - 1\n",
    "        while j >= 0 and chave < arr[j]:\n",
    "            arr[j + 1] = arr[j]\n",
    "            j -= 1\n",
    "            trocas += 1\n",
    "        arr[j + 1] = chave\n",
    "    return arr, trocas"
   ]
  },
  {
   "cell_type": "code",
   "execution_count": 10,
   "metadata": {},
   "outputs": [],
   "source": [
    "def bubble_sort(arr):\n",
    "    \"\"\"\n",
    "    Implementa o Bubble Sort com contagem de trocas.\n",
    "\n",
    "    Args:\n",
    "    arr: A lista a ser ordenada.\n",
    "\n",
    "    Returns:\n",
    "    A lista ordenada e o número de trocas realizadas.\n",
    "    \"\"\"\n",
    "def bubble_sort(arr):\n",
    "    trocas = 0\n",
    "    for i in range(len(arr)):\n",
    "        for j in range(0, len(arr) - i - 1):\n",
    "            if arr[j] > arr[j + 1]:\n",
    "                arr[j], arr[j + 1] = arr[j + 1], arr[j]\n",
    "                trocas += 1\n",
    "    return arr, trocas\n",
    "\n"
   ]
  },
  {
   "cell_type": "code",
   "execution_count": 11,
   "metadata": {},
   "outputs": [],
   "source": [
    "def selection_sort(arr):\n",
    "    \"\"\"\n",
    "    Implementa o Selection Sort com contagem de trocas.\n",
    "\n",
    "    Args:\n",
    "    arr: A lista a ser ordenada.\n",
    "\n",
    "    Returns:\n",
    "    A lista ordenada e o número de trocas realizadas.\n",
    "    \"\"\"\n",
    "def selection_sort(arr):\n",
    "    trocas = 0\n",
    "    for i in range(len(arr)):\n",
    "        min_idx = i\n",
    "        for j in range(i + 1, len(arr)):\n",
    "            if arr[j] < arr[min_idx]:\n",
    "                min_idx = j\n",
    "        if min_idx != i:\n",
    "            arr[i], arr[min_idx] = arr[min_idx], arr[i]\n",
    "            trocas += 1\n",
    "    return arr, trocas"
   ]
  },
  {
   "cell_type": "code",
   "execution_count": 15,
   "metadata": {},
   "outputs": [],
   "source": [
    "def selection_sort(arr):\n",
    "    trocas = 0\n",
    "    for i in range(len(arr)):\n",
    "        min_idx = i\n",
    "        for j in range(i + 1, len(arr)):\n",
    "            if arr[min_idx] > arr[j]:\n",
    "                min_idx = j\n",
    "        # Realiza a troca mesmo se min_idx for igual a i\n",
    "        arr[i], arr[min_idx] = arr[min_idx], arr[i]\n",
    "        trocas += 1  # Conta a troca\n",
    "    return arr, trocas"
   ]
  },
  {
   "cell_type": "markdown",
   "metadata": {},
   "source": [
    "Vetores usados:\n",
    "Crescente: [1, 2, 3, 4, 5, 6, 7, 8, 9, 10]\n",
    "Decrescente: [10, 9, 8, 7, 6, 5, 4, 3, 2, 1]\n",
    "Não ordenado: [5, 8, 1, 3, 9, 6, 2, 7, 4, 10]"
   ]
  },
  {
   "cell_type": "markdown",
   "metadata": {},
   "source": [
    "(2) execute as implementações para vetores ordenados em ordem crescente,\n",
    "decrescente e vetores não ordenados e anote o número de trocas;"
   ]
  },
  {
   "cell_type": "code",
   "execution_count": 17,
   "metadata": {},
   "outputs": [
    {
     "name": "stdout",
     "output_type": "stream",
     "text": [
      "        Algoritmo  Crescente  Decrescente  Não Ordenado\n",
      "0  Insertion Sort          0           45            18\n",
      "1     Bubble Sort          0           45            18\n",
      "2  Selection Sort          0            5             6\n"
     ]
    }
   ],
   "source": [
    "import pandas as pd\n",
    "\n",
    "data = {\n",
    "    'Algoritmo': ['Insertion Sort', 'Bubble Sort', 'Selection Sort'],\n",
    "    'Crescente': [0, 0, 0,],\n",
    "    'Decrescente': [45, 45, 5,],\n",
    "    'Não Ordenado': [18, 18, 6,]\n",
    "}\n",
    "\n",
    "df = pd.DataFrame(data)\n",
    "\n",
    "print(df)"
   ]
  },
  {
   "cell_type": "markdown",
   "metadata": {},
   "source": [
    "(3) analise o número de trocas para cada uma das entradas e diga, caso\n",
    "exista um, qual é o algoritmo mais eficiente (baseado no número de\n",
    "trocas)."
   ]
  },
  {
   "cell_type": "markdown",
   "metadata": {},
   "source": [
    "Insertion Sort: Para vetores decrescentes, o Insertion Sort realiza o máximo número de trocas, enquanto o Selection Sort é mais eficiente, fazendo apenas 5 trocas. No caso de vetores ordenados em ordem crescente, o Insertion Sort não faz nenhuma troca, pois o vetor já está ordenado. Em vetores decrescentes ou não ordenados, o Insertion Sort realiza um número significativo de trocas, sendo mais eficiente em vetores que estão quase ordenados.\n",
    "\n",
    "Bubble Sort: O comportamento do Bubble Sort é semelhante ao do Insertion Sort. Para vetores decrescentes, ele também realiza o máximo número de trocas, enquanto o Selection Sort é mais eficiente com apenas 5 trocas. O Bubble Sort faz muitas trocas em vetores decrescentes e não ordenados.\n",
    "\n",
    "Selection Sort: O Selection Sort se destaca em vetores não ordenados, realizando o menor número de trocas em comparação com o Insertion Sort e o Bubble Sort, que empatam com 18 trocas. Em listas já ordenadas, todos os algoritmos têm bom desempenho. No entanto, se o código não verificar se min_idx == i, ele trocará um elemento por ele mesmo, resultando em 9 trocas desnecessárias em uma lista ordenada. Para evitar isso, usamos a condição min_idx != i, garantindo que a troca só ocorra quando min_idx for diferente de i.\n",
    "\n",
    "\n",
    "---> Selection Sort foi o mais eficiente em termos de número de trocas nos testes feitos, especialmente para vetores decrescentes e não ordenados."
   ]
  }
 ],
 "metadata": {
  "kernelspec": {
   "display_name": "Python 3",
   "language": "python",
   "name": "python3"
  },
  "language_info": {
   "codemirror_mode": {
    "name": "ipython",
    "version": 3
   },
   "file_extension": ".py",
   "mimetype": "text/x-python",
   "name": "python",
   "nbconvert_exporter": "python",
   "pygments_lexer": "ipython3",
   "version": "3.11.5"
  }
 },
 "nbformat": 4,
 "nbformat_minor": 2
}
